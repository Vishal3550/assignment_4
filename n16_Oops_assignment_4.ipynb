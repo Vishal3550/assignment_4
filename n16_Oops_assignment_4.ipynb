{
 "cells": [
  {
   "cell_type": "markdown",
   "id": "2b330573-4297-478b-adee-ae06edcacb62",
   "metadata": {},
   "source": [
    "OOPS Assignment"
   ]
  },
  {
   "cell_type": "code",
   "execution_count": 2,
   "id": "3357cbac-00a9-4357-a8db-3163ff0eb2f7",
   "metadata": {},
   "outputs": [
    {
     "name": "stdout",
     "output_type": "stream",
     "text": [
      "Name: Mountain Bike, Gears: 11 \n"
     ]
    }
   ],
   "source": [
    "# Q1. Explain Class and Object with respect to Object-Oriented Programming. Give a suitable example.\n",
    "#\n",
    "#  # class:-We use the class keyword to create a class in Python.\n",
    "#         syntax:-class ClassName:\n",
    "#   \n",
    "#  # object:-An object is called an instance of a class.\n",
    "#           syntax:-objectName = ClassName()      \n",
    "\n",
    "# define a class\n",
    "class Bike:\n",
    "    name = \"\"\n",
    "    gear = 0\n",
    "\n",
    "# create object of class\n",
    "bike1 = Bike()\n",
    "\n",
    "# access attributes and assign new values\n",
    "bike1.gear = 11\n",
    "bike1.name = \"Mountain Bike\"\n",
    "\n",
    "print(f\"Name: {bike1.name}, Gears: {bike1.gear} \")"
   ]
  },
  {
   "cell_type": "code",
   "execution_count": null,
   "id": "3e842d38-a84c-440c-9a98-0bd3a68d1165",
   "metadata": {},
   "outputs": [],
   "source": [
    "# Q2. Name the four pillars of OOPs.\n",
    "# \n",
    "# Answer:- The four pillars of  OOPs (object-oriented programming) \n",
    "#        are data abstraction, encapsulation, inheritance, and polymorphism.\n",
    "#\n",
    "#  *  Data abstraction is the process of hiding unnecessary details of an object’s internal structure. By abstracting an object’s data, its structure and behavior can be kept separate and more easily understood.\n",
    "#  *  Encapsulation is the process of wrapping data and related functions into a single unit (object). Encapsulation limits access to object data and methods, preventing their misuse and ensuring their proper functioning.\n",
    "#  *  Inheritance is the ability to create a new class (child class) from an existing one (parent class). The child class typically inherits the attributes (members and methods) of the parent class, although it can also redefine them. \n",
    "#  *  Polymorphism is the ability of an object to take on multiple forms. This allows objects of different classes to be used interchangeably, as long as they implement a certain interface (have methods of the same name)."
   ]
  },
  {
   "cell_type": "code",
   "execution_count": 3,
   "id": "650192e1-b407-4db8-add6-8a54c47a9b6e",
   "metadata": {},
   "outputs": [
    {
     "name": "stdout",
     "output_type": "stream",
     "text": [
      "vishal\n",
      "21\n"
     ]
    }
   ],
   "source": [
    "# Q3. Explain why the __init__() function is used. Give a suitable example.\n",
    "\n",
    "# Answer:- Use the __init__() function to assign values to object properties, or other operations that are necessary to do when the object is being created.\n",
    "class Person:\n",
    "  def __init__(self, name, age):\n",
    "    self.name = name\n",
    "    self.age = age\n",
    "\n",
    "p1 = Person(\"vishal\", 21)\n",
    "\n",
    "print(p1.name)\n",
    "print(p1.age)"
   ]
  },
  {
   "cell_type": "code",
   "execution_count": 10,
   "id": "2f1e65cd-cf16-4730-83cd-c73d6228080e",
   "metadata": {},
   "outputs": [
    {
     "name": "stdout",
     "output_type": "stream",
     "text": [
      "sudhanshu_sir\n",
      "6\n"
     ]
    }
   ],
   "source": [
    "# Q4. Why self is used in OOPs?\n",
    "\n",
    "# Answer:- The self parameter is a reference to the current instance of the class, and is used to access variables that belongs to the class.\n",
    "class pwskills:\n",
    "  def __init__(self, teacher_name, experience_year):\n",
    "    self.teacher_name = teacher_name\n",
    "    self.experience_year = experience_year\n",
    "\n",
    "p1 = pwskills(\"sudhanshu_sir\", 6)\n",
    "\n",
    "print(p1.teacher_name)\n",
    "print(p1.experience_year)"
   ]
  },
  {
   "cell_type": "code",
   "execution_count": 11,
   "id": "e6283197-5463-48a4-b44d-99d4b88a38ed",
   "metadata": {},
   "outputs": [],
   "source": [
    "# Q5. What is inheritance? Give an example for each type of inheritance.\n",
    "#\n",
    "# Answer:-Inheritance is defined as the mechanism of inheriting the properties of the base class to the child class.\n",
    "#\n",
    "#   Types of Inheritance depend upon the number of child and parent classes involved.\n",
    "#   There are four types of inheritance in Python:\n",
    "#                                            * Single Inheritance\n",
    "#                                            * Multiple Inheritance\n",
    "#                                            * Multilevel Inheritance\n",
    "#                                            * Hierarchical Inheritance"
   ]
  },
  {
   "cell_type": "code",
   "execution_count": 12,
   "id": "8ac4395e-ed51-40bd-a031-cb3705731166",
   "metadata": {},
   "outputs": [
    {
     "name": "stdout",
     "output_type": "stream",
     "text": [
      "This function is in parent class.\n",
      "This function is in child class.\n"
     ]
    }
   ],
   "source": [
    "#  * Single Inheritance\n",
    "class Parent:\n",
    "    def func1(self):\n",
    "        print(\"This function is in parent class.\")\n",
    " \n",
    "class Child(Parent):\n",
    "    def func2(self):\n",
    "        print(\"This function is in child class.\")\n",
    " \n",
    "object = Child()\n",
    "object.func1()\n",
    "object.func2()"
   ]
  },
  {
   "cell_type": "code",
   "execution_count": 14,
   "id": "aa97e1fb-1e7b-4908-937b-a36710079aed",
   "metadata": {},
   "outputs": [
    {
     "name": "stdout",
     "output_type": "stream",
     "text": [
      "Father : Nirshu_Mahto\n",
      "Mother : Sunder_devi\n"
     ]
    }
   ],
   "source": [
    "#   * Multiple Inheritance\n",
    "class Mother:\n",
    "    mother_name = \"\"\n",
    " \n",
    "    def mother(self):\n",
    "        print(self.mother_name)\n",
    "        \n",
    "class Father:\n",
    "    father_name = \"\"\n",
    " \n",
    "    def father(self):\n",
    "        print(self.father_name)\n",
    " \n",
    "class Son(Mother, Father):\n",
    "    def parents(self):\n",
    "        print(\"Father :\", self.father_name)\n",
    "        print(\"Mother :\", self.mother_name)\n",
    "\n",
    "s1 = Son()\n",
    "s1.father_name = \"Nirshu_Mahto\"\n",
    "s1.mother_name = \"Sunder_devi\"\n",
    "s1.parents()"
   ]
  },
  {
   "cell_type": "code",
   "execution_count": 17,
   "id": "9b5a0088-9966-41df-aa21-53e270e667ba",
   "metadata": {},
   "outputs": [
    {
     "name": "stdout",
     "output_type": "stream",
     "text": [
      "Lt.kail_mahto\n",
      "Grandfather name : Lt.kail_mahto\n",
      "Father name : nirshu_mahto\n",
      "Son name : vishal_kumar\n"
     ]
    }
   ],
   "source": [
    "#   * Multilevel Inheritance\n",
    "class Grandfather:\n",
    " \n",
    "    def __init__(self, grandfather_name):\n",
    "        self.grandfather_name = grandfather_name\n",
    " \n",
    "class Father(Grandfather):\n",
    "    def __init__(self, father_name, grandfather_name):\n",
    "        self.father_name = father_name\n",
    " \n",
    "        Grandfather.__init__(self, grandfather_name)\n",
    " \n",
    "class Son(Father):\n",
    "    def __init__(self, son_name, father_name, grandfather_name):\n",
    "        self.son_name = son_name\n",
    " \n",
    "        Father.__init__(self, father_name, grandfather_name)\n",
    " \n",
    "    def print_name(self):\n",
    "        print('Grandfather name :', self.grandfather_name)\n",
    "        print(\"Father name :\", self.father_name)\n",
    "        print(\"Son name :\", self.son_name)\n",
    " \n",
    "s1 = Son('vishal_kumar', 'nirshu_mahto', 'Lt.kail_mahto')\n",
    "print(s1.grandfather_name)\n",
    "s1.print_name()"
   ]
  },
  {
   "cell_type": "code",
   "execution_count": 18,
   "id": "ca0634d7-e814-4785-84da-73de19b6b701",
   "metadata": {},
   "outputs": [
    {
     "name": "stdout",
     "output_type": "stream",
     "text": [
      "This function is in parent class.\n",
      "This function is in child 1.\n",
      "This function is in parent class.\n",
      "This function is in child 2.\n"
     ]
    }
   ],
   "source": [
    "#   * Hierarchical Inheritance\n",
    "class Parent:\n",
    "    def func1(self):\n",
    "        print(\"This function is in parent class.\")\n",
    " \n",
    "class Child1(Parent):\n",
    "    def func2(self):\n",
    "        print(\"This function is in child 1.\")\n",
    "        \n",
    "class Child2(Parent):\n",
    "    def func3(self):\n",
    "        print(\"This function is in child 2.\")\n",
    " \n",
    "object1 = Child1()\n",
    "object2 = Child2()\n",
    "object1.func1()\n",
    "object1.func2()\n",
    "object2.func1()\n",
    "object2.func3()"
   ]
  },
  {
   "cell_type": "code",
   "execution_count": null,
   "id": "9e25c40c-73d7-47c8-85aa-522ef618c1cc",
   "metadata": {},
   "outputs": [],
   "source": []
  }
 ],
 "metadata": {
  "kernelspec": {
   "display_name": "Python 3 (ipykernel)",
   "language": "python",
   "name": "python3"
  },
  "language_info": {
   "codemirror_mode": {
    "name": "ipython",
    "version": 3
   },
   "file_extension": ".py",
   "mimetype": "text/x-python",
   "name": "python",
   "nbconvert_exporter": "python",
   "pygments_lexer": "ipython3",
   "version": "3.10.8"
  }
 },
 "nbformat": 4,
 "nbformat_minor": 5
}
